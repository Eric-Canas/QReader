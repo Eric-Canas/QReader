{
  "nbformat": 4,
  "nbformat_minor": 0,
  "metadata": {
    "colab": {
      "provenance": [],
      "include_colab_link": true
    },
    "kernelspec": {
      "name": "python3",
      "display_name": "Python 3"
    },
    "language_info": {
      "name": "python"
    }
  },
  "cells": [
    {
      "cell_type": "markdown",
      "metadata": {
        "id": "view-in-github",
        "colab_type": "text"
      },
      "source": [
        "<a href=\"https://colab.research.google.com/github/Eric-Canas/QReader/blob/main/example.ipynb\" target=\"_parent\"><img src=\"https://colab.research.google.com/assets/colab-badge.svg\" alt=\"Open In Colab\"/></a>"
      ]
    },
    {
      "cell_type": "code",
      "source": [
        "!pip install qreader\n",
        "!sudo apt-get install libzbar0"
      ],
      "metadata": {
        "id": "WXVbKTOd_ciW"
      },
      "execution_count": null,
      "outputs": []
    },
    {
      "cell_type": "code",
      "source": [
        "from qreader import QReader\n",
        "import requests\n",
        "import cv2\n",
        "import numpy as np\n",
        "import requests"
      ],
      "metadata": {
        "id": "eJ_wJbJMIoB1"
      },
      "execution_count": 9,
      "outputs": []
    },
    {
      "cell_type": "code",
      "source": [
        "# Read image directly from URL as np.array\n",
        "img = np.asarray(bytearray(requests.get('https://raw.githubusercontent.com/Eric-Canas/QReader/main/documentation/resources/logo.png').content), dtype=np.uint8)\n",
        "img = cv2.imdecode(img, cv2.IMREAD_COLOR)\n",
        "\n",
        "detector = QReader()\n",
        "# Detect and decode the QRs within the image\n",
        "decodedQRs, QRlocations = detector.detect_and_decode(image=img, return_detections=True)\n",
        "# Print the results\n",
        "for i, (decodedQR, QRlocation) in enumerate(zip(decodedQRs, QRlocations)):\n",
        "    print(f\"QR {i+1}: {decodedQR}\")\n",
        "    print(f\"QR {i+1} position: x: {QRlocation['cxcyn'][0]}, y: {QRlocation['cxcyn'][1]}\")\n",
        "    #print(f\"Full detection info: {QRlocation}\")"
      ],
      "metadata": {
        "colab": {
          "base_uri": "https://localhost:8080/"
        },
        "id": "FcTPjLhOIo0_",
        "outputId": "4ad9ea94-1b00-4d84-b297-404743dbde1b"
      },
      "execution_count": 22,
      "outputs": [
        {
          "output_type": "stream",
          "name": "stdout",
          "text": [
            "QR 1: https://github.com/Eric-Canas/QReader\n",
            "QR 1 position: x: 0.5006223221379389, y: 0.49977787932241224\n"
          ]
        }
      ]
    }
  ]
}