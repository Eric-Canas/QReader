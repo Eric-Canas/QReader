{
  "nbformat": 4,
  "nbformat_minor": 0,
  "metadata": {
    "colab": {
      "provenance": [],
      "authorship_tag": "ABX9TyOQFWWpgnvp1YvpIEgEqC0j",
      "include_colab_link": true
    },
    "kernelspec": {
      "name": "python3",
      "display_name": "Python 3"
    },
    "language_info": {
      "name": "python"
    }
  },
  "cells": [
    {
      "cell_type": "markdown",
      "metadata": {
        "id": "view-in-github",
        "colab_type": "text"
      },
      "source": [
        "<a href=\"https://colab.research.google.com/github/Eric-Canas/QReader/blob/main/example.ipynb\" target=\"_parent\"><img src=\"https://colab.research.google.com/assets/colab-badge.svg\" alt=\"Open In Colab\"/></a>"
      ]
    },
    {
      "cell_type": "code",
      "source": [
        "!pip install qreader\n",
        "!sudo apt-get install libzbar0"
      ],
      "metadata": {
        "colab": {
          "base_uri": "https://localhost:8080/"
        },
        "id": "yitDYbGAJYLq",
        "outputId": "a15144df-3bba-4982-9b89-6b664a653c4f"
      },
      "execution_count": 13,
      "outputs": [
        {
          "output_type": "stream",
          "name": "stdout",
          "text": [
            "Looking in indexes: https://pypi.org/simple, https://us-python.pkg.dev/colab-wheels/public/simple/\n",
            "Requirement already satisfied: qreader in /usr/local/lib/python3.8/dist-packages (2.2)\n",
            "Requirement already satisfied: qrdet in /usr/local/lib/python3.8/dist-packages (from qreader) (1.3)\n",
            "Requirement already satisfied: opencv-python in /usr/local/lib/python3.8/dist-packages (from qreader) (4.6.0.66)\n",
            "Requirement already satisfied: numpy in /usr/local/lib/python3.8/dist-packages (from qreader) (1.21.6)\n",
            "Requirement already satisfied: pyzbar in /usr/local/lib/python3.8/dist-packages (from qreader) (0.1.9)\n",
            "Requirement already satisfied: yolov7-package in /usr/local/lib/python3.8/dist-packages (from qrdet->qreader) (0.0.12)\n",
            "Requirement already satisfied: torchvision in /usr/local/lib/python3.8/dist-packages (from yolov7-package->qrdet->qreader) (0.14.0+cu116)\n",
            "Requirement already satisfied: requests in /usr/local/lib/python3.8/dist-packages (from yolov7-package->qrdet->qreader) (2.25.1)\n",
            "Requirement already satisfied: pyyaml in /usr/local/lib/python3.8/dist-packages (from yolov7-package->qrdet->qreader) (6.0)\n",
            "Requirement already satisfied: torch in /usr/local/lib/python3.8/dist-packages (from yolov7-package->qrdet->qreader) (1.13.0+cu116)\n",
            "Requirement already satisfied: wget in /usr/local/lib/python3.8/dist-packages (from yolov7-package->qrdet->qreader) (3.2)\n",
            "Requirement already satisfied: tqdm in /usr/local/lib/python3.8/dist-packages (from yolov7-package->qrdet->qreader) (4.64.1)\n",
            "Requirement already satisfied: idna<3,>=2.5 in /usr/local/lib/python3.8/dist-packages (from requests->yolov7-package->qrdet->qreader) (2.10)\n",
            "Requirement already satisfied: certifi>=2017.4.17 in /usr/local/lib/python3.8/dist-packages (from requests->yolov7-package->qrdet->qreader) (2022.12.7)\n",
            "Requirement already satisfied: urllib3<1.27,>=1.21.1 in /usr/local/lib/python3.8/dist-packages (from requests->yolov7-package->qrdet->qreader) (1.24.3)\n",
            "Requirement already satisfied: chardet<5,>=3.0.2 in /usr/local/lib/python3.8/dist-packages (from requests->yolov7-package->qrdet->qreader) (4.0.0)\n",
            "Requirement already satisfied: typing-extensions in /usr/local/lib/python3.8/dist-packages (from torch->yolov7-package->qrdet->qreader) (4.4.0)\n",
            "Requirement already satisfied: pillow!=8.3.*,>=5.3.0 in /usr/local/lib/python3.8/dist-packages (from torchvision->yolov7-package->qrdet->qreader) (7.1.2)\n",
            "Reading package lists... Done\n",
            "Building dependency tree       \n",
            "Reading state information... Done\n",
            "libzbar0 is already the newest version (0.10+doc-10.1build2).\n",
            "The following package was automatically installed and is no longer required:\n",
            "  libnvidia-common-460\n",
            "Use 'sudo apt autoremove' to remove it.\n",
            "0 upgraded, 0 newly installed, 0 to remove and 21 not upgraded.\n"
          ]
        }
      ]
    },
    {
      "cell_type": "code",
      "source": [
        "from qreader import QReader\n",
        "import cv2"
      ],
      "metadata": {
        "id": "eJ_wJbJMIoB1"
      },
      "execution_count": 14,
      "outputs": []
    },
    {
      "cell_type": "code",
      "source": [
        "detector = QReader()\n",
        "# Read the image\n",
        "img = cv2.cvtColor(cv2.imread('test_draw_64x64.jpeg'), cv2.COLOR_BGR2RGB)\n",
        "# Detect and decode the QRs within the image\n",
        "QRs = detector.detect_and_decode(image=img, return_bboxes=True)\n",
        "# Print the results\n",
        "for QR in QRs:\n",
        "    print(QR)"
      ],
      "metadata": {
        "colab": {
          "base_uri": "https://localhost:8080/"
        },
        "id": "FcTPjLhOIo0_",
        "outputId": "d0e99514-bb67-4f49-bff8-c365653d9cdd"
      },
      "execution_count": 15,
      "outputs": [
        {
          "output_type": "stream",
          "name": "stdout",
          "text": [
            "Fusing layers... \n",
            "IDetect.fuse\n",
            "((110, 135, 191, 224), 'https://github.com/Eric-Canas/QReader')\n"
          ]
        }
      ]
    }
  ]
}